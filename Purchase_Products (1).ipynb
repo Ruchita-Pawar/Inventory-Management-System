{
  "nbformat": 4,
  "nbformat_minor": 0,
  "metadata": {
    "colab": {
      "name": "Purchase_Products.ipynb",
      "provenance": [],
      "collapsed_sections": []
    },
    "kernelspec": {
      "name": "python3",
      "display_name": "Python 3"
    },
    "language_info": {
      "name": "python"
    }
  },
  "cells": [
    {
      "cell_type": "code",
      "metadata": {
        "id": "p0RN-P66R3g6"
      },
      "source": [
        "import json\n",
        "import time\n",
        "fd=open(\"IMS_records.json\",'r')\n",
        "a=fd.read()\n",
        "fd.close()\n",
        "record = json.loads(a)"
      ],
      "execution_count": 547,
      "outputs": []
    },
    {
      "cell_type": "code",
      "metadata": {
        "colab": {
          "base_uri": "https://localhost:8080/"
        },
        "id": "be-_dyj9rUeW",
        "outputId": "fb5072be-64fa-471a-b21f-afce716b0f30"
      },
      "source": [
        "record"
      ],
      "execution_count": 554,
      "outputs": [
        {
          "output_type": "execute_result",
          "data": {
            "text/plain": [
              "{'1001': {'brand': 'Lays',\n",
              "  'cat': 'Food-item',\n",
              "  'd': '30-03-2023',\n",
              "  'name': 'Potato Chhips',\n",
              "  'pr': 17,\n",
              "  'qu': 44},\n",
              " '1002': {'brand': 'Lotte',\n",
              "  'cat': 'food',\n",
              "  'date': '20-09-2022',\n",
              "  'name': 'Choco-Pie',\n",
              "  'pr': 25,\n",
              "  'qu': 23},\n",
              " '1003': {'brand': 'Dairy',\n",
              "  'cat': 'food',\n",
              "  'date': '20-09-2021',\n",
              "  'name': 'Milk',\n",
              "  'pr': 60,\n",
              "  'qu': 13},\n",
              " '1004': {'brand': 'gemini',\n",
              "  'cat': 'food',\n",
              "  'date': '20-12-2022',\n",
              "  'name': 'cookingoil',\n",
              "  'pr': 80,\n",
              "  'qu': 15},\n",
              " '1005': {'brand': 'Lays',\n",
              "  'cat': 'food',\n",
              "  'date': '20-12-2021',\n",
              "  'name': 'Chips',\n",
              "  'pr': 20,\n",
              "  'qu': 18},\n",
              " '1006': {'brand': 'MotherEarth',\n",
              "  'cat': 'food',\n",
              "  'date': '12-09-2021',\n",
              "  'name': 'Bread',\n",
              "  'pr': 25,\n",
              "  'qu': 10},\n",
              " '1007': {'brand': 'Kissan',\n",
              "  'cat': 'food',\n",
              "  'date': '20-12-2022',\n",
              "  'name': 'Fruit-Jam',\n",
              "  'pr': 60,\n",
              "  'qu': 18},\n",
              " '1008': {'brand': 'Maggie',\n",
              "  'cat': 'food',\n",
              "  'date': '20-10-2022',\n",
              "  'name': 'Noodles',\n",
              "  'pr': 20,\n",
              "  'qu': 19},\n",
              " '1009': {'brand': 'Perk',\n",
              "  'cat': 'food',\n",
              "  'date': '12-12-2021',\n",
              "  'name': '5 Star',\n",
              "  'pr': 20,\n",
              "  'qu': 9},\n",
              " '1010': {'brand': 'Amul',\n",
              "  'cat': 'food',\n",
              "  'date': '24-08-2022',\n",
              "  'name': 'Bytter',\n",
              "  'pr': 50,\n",
              "  'qu': 25},\n",
              " '1011': {'brand': 'Jimmy',\n",
              "  'cat': 'food',\n",
              "  'date': '12-09-2022',\n",
              "  'name': 'Tomato-Ketchup',\n",
              "  'pr': 35,\n",
              "  'qu': 21},\n",
              " '1012': {'brand': 'Haldiram',\n",
              "  'cat': 'food',\n",
              "  'date': '15-07-2023',\n",
              "  'name': 'Sonpapdi',\n",
              "  'pr': 150,\n",
              "  'qu': 18},\n",
              " '1013': {'brand': 'Almond',\n",
              "  'cat': 'Cosmetic',\n",
              "  'date': '28-02-2023',\n",
              "  'name': 'Hiar-oil',\n",
              "  'pr': 45,\n",
              "  'qu': 23},\n",
              " '1014': {'brand': 'Nykaa',\n",
              "  'cat': 'Cosmetic',\n",
              "  'date': '14-08-2024',\n",
              "  'name': 'Nailpolish',\n",
              "  'pr': 50,\n",
              "  'qu': 23},\n",
              " '1015': {'brand': 'MamaEarth',\n",
              "  'cat': 'Cosmetic',\n",
              "  'date': '16-07-2023',\n",
              "  'name': 'Hair Serum',\n",
              "  'pr': 80,\n",
              "  'qu': 9},\n",
              " '1016': {'brand': 'Himalaya',\n",
              "  'cat': 'Cosmetic',\n",
              "  'date': '17-06-2023',\n",
              "  'name': 'Facewash',\n",
              "  'pr': 45,\n",
              "  'qu': 24},\n",
              " '1017': {'brand': 'Lifeboy',\n",
              "  'cat': 'Medicinal',\n",
              "  'date': '16-05-2022',\n",
              "  'name': 'Hand-Sanitizer',\n",
              "  'pr': 35,\n",
              "  'qu': 32},\n",
              " '1018': {'brand': 'Dettol',\n",
              "  'cat': 'Medicinal',\n",
              "  'date': '15-02-2023',\n",
              "  'name': 'Floor-Cleaner',\n",
              "  'pr': 80,\n",
              "  'qu': 20},\n",
              " '1019': {'brand': 'LUX',\n",
              "  'cat': 'Medicinal',\n",
              "  'date': '16-09-2022',\n",
              "  'name': 'Bodywash',\n",
              "  'pr': 60,\n",
              "  'qu': 39},\n",
              " '1020': {'brand': 'Cornato',\n",
              "  'cat': 'food',\n",
              "  'date': '19-10-2021',\n",
              "  'name': 'Ice-Cream',\n",
              "  'pr': 100,\n",
              "  'qu': 44},\n",
              " '1021': {'brand': 'Govid',\n",
              "  'cat': 'food',\n",
              "  'date': '10-09-2021',\n",
              "  'name': 'Panner',\n",
              "  'pr': 60,\n",
              "  'qu': 2},\n",
              " '1022': {'brand': 'Milkyway',\n",
              "  'cat': 'food',\n",
              "  'date': '15-10-2021',\n",
              "  'name': 'Crud',\n",
              "  'pr': 50,\n",
              "  'qu': 13},\n",
              " '1023': {'brand': 'Milky',\n",
              "  'cat': 'food',\n",
              "  'date': '13-10-2021',\n",
              "  'name': 'ilkyBar',\n",
              "  'pr': 25,\n",
              "  'qu': 24},\n",
              " '1024': {'brand': 'out-all',\n",
              "  'cat': 'medicinal',\n",
              "  'date': '10-02-2023',\n",
              "  'name': 'All-Out',\n",
              "  'pr': 40,\n",
              "  'qu': 19},\n",
              " '1025': {'brand': 'Apollo',\n",
              "  'cat': 'medicinal',\n",
              "  'date': '23-12-2024',\n",
              "  'name': 'Facemask',\n",
              "  'pr': 60,\n",
              "  'qu': 24},\n",
              " '1026': {'brand': 'Bharat',\n",
              "  'cat': 'food',\n",
              "  'date': '12-12-2021',\n",
              "  'name': 'Whaet',\n",
              "  'pr': 30,\n",
              "  'qu': 44},\n",
              " '1027': {'brand': 'Apna',\n",
              "  'cat': 'food',\n",
              "  'date': '10-10-2022',\n",
              "  'name': 'Rice',\n",
              "  'pr': 45,\n",
              "  'qu': 34},\n",
              " '1028': {'brand': 'Ashirwad',\n",
              "  'cat': 'food',\n",
              "  'date': '13-03-2022',\n",
              "  'name': 'Bajra',\n",
              "  'pr': 35,\n",
              "  'qu': 44},\n",
              " '1029': {'brand': 'khara',\n",
              "  'cat': 'food',\n",
              "  'date': '14-05-2022',\n",
              "  'name': 'sugar',\n",
              "  'pr': 45,\n",
              "  'qu': 32},\n",
              " '1030': {'brand': 'Vim',\n",
              "  'cat': 'Cosmetic',\n",
              "  'date': '19-11-2022',\n",
              "  'name': 'Dishwashing soap',\n",
              "  'pr': 15,\n",
              "  'qu': 18},\n",
              " '1031': {'brand': 'HenzBenz',\n",
              "  'cat': 'food',\n",
              "  'date': '13-04-2022',\n",
              "  'name': 'Canned Beans',\n",
              "  'pr': 100,\n",
              "  'qu': 24},\n",
              " '1032': {'brand': 'Aquaa',\n",
              "  'cat': 'food',\n",
              "  'date': '12-02-2022',\n",
              "  'name': 'Water',\n",
              "  'pr': 20,\n",
              "  'qu': 17},\n",
              " '1033': {'brand': 'TATA',\n",
              "  'cat': 'Food',\n",
              "  'date': '12-12-2021',\n",
              "  'name': 'Salt',\n",
              "  'pr': 20,\n",
              "  'qu': 99}}"
            ]
          },
          "metadata": {},
          "execution_count": 554
        }
      ]
    },
    {
      "cell_type": "markdown",
      "metadata": {
        "id": "BdytQZy76SS0"
      },
      "source": [
        "Product Purchase"
      ]
    },
    {
      "cell_type": "code",
      "metadata": {
        "colab": {
          "base_uri": "https://localhost:8080/"
        },
        "id": "muFIQpOStXYq",
        "outputId": "ac9ca8f5-29a1-428d-953e-5253e0e4ac9f"
      },
      "source": [
        "u_pro=str(input(\"Enter the Product Id:\"))\n",
        "if u_pro in record:\n",
        "  print(\"Product Exists\")\n",
        "  u_qu=int(input(\"Enter the Quantity:\"))\n",
        "  z=(record[u_pro]['qu'] < u_qu)\n",
        "  if(z):\n",
        "    print(\"The quantity is less\")\n",
        "    d=str(input(\"Do you want to purchase(Y/N):\"))\n",
        "    if(d=='Y'or'y'or'yes'):\n",
        "      e=int(input(\"How much do you want \"))\n",
        "      if(e > record[u_pro]['qu']):\n",
        "        print(\"Sorry stock is limited!!\")\n",
        "      else:\n",
        "        print(\"Products: \",record[u_pro]['name'])\n",
        "        print(\"Price: \",record[u_pro]['pr'])\n",
        "        print(\"Billing Amount :\",record[u_pro]['pr']*e) \n",
        "    else:\n",
        "      print(\"Sorry!!\")    \n",
        "  else:\n",
        "    print(\"Product in Stock\")\n",
        "    print(\"Products: \",record[u_pro]['name'])\n",
        "    print(\"Product Brand:\",record[u_pro]['brand'])\n",
        "    print(\"Price: \",record[u_pro]['pr'])\n",
        "    print(\"Billing Amount :\",record[u_pro]['pr']*u_qu)  \n",
        "else:\n",
        "  print(\"Product not exist\") \n",
        " \n",
        "record[u_pro]['qu']=record[u_pro]['qu']-u_qu"
      ],
      "execution_count": 548,
      "outputs": [
        {
          "output_type": "stream",
          "name": "stdout",
          "text": [
            "Enter the Product Id:1024\n",
            "Product Exists\n",
            "Enter the Quantity:1\n",
            "Product in Stock\n",
            "Products:  All-Out\n",
            "Product Brand: out-all\n",
            "Price:  40\n",
            "Billing Amount : 40\n"
          ]
        }
      ]
    },
    {
      "cell_type": "code",
      "metadata": {
        "id": "ViObbPVG1t19"
      },
      "source": [
        "js=json.dumps(record)\n",
        "fd=open(\"IMS_records.json\",'w')\n",
        "fd.write(js)\n",
        "fd.close()"
      ],
      "execution_count": 549,
      "outputs": []
    },
    {
      "cell_type": "code",
      "metadata": {
        "id": "mlQs7UAp4csQ"
      },
      "source": [
        "import json\n",
        "fd=open(\"IMS_sales.json\",'r')\n",
        "y=fd.read()\n",
        "fd.close()\n",
        "x=json.loads(y)"
      ],
      "execution_count": 550,
      "outputs": []
    },
    {
      "cell_type": "markdown",
      "metadata": {
        "id": "uToFm26sEshK"
      },
      "source": [
        "Scales Details\n"
      ]
    },
    {
      "cell_type": "code",
      "metadata": {
        "id": "BoMZogLuG2Sc"
      },
      "source": [
        "t = time.ctime()\n",
        "x[u_pro]={'Transaction ID:':(u_pro+'110'), 'Transaction time:':t, 'Product Id': u_pro, 'name':record[u_pro]['name'],'Quantity': u_qu,'Price:':record[u_pro]['pr']*u_qu,}     \n",
        "        "
      ],
      "execution_count": 551,
      "outputs": []
    },
    {
      "cell_type": "code",
      "metadata": {
        "id": "DLYFUTAWLMfv"
      },
      "source": [
        "jp=json.dumps(x)\n",
        "fd=open(\"IMS_sales.json\",'w')\n",
        "fd.write(jp)\n",
        "fd.close()"
      ],
      "execution_count": 552,
      "outputs": []
    },
    {
      "cell_type": "code",
      "metadata": {
        "colab": {
          "base_uri": "https://localhost:8080/",
          "height": 617
        },
        "id": "2WDlIWCaLvNX",
        "outputId": "3005e666-227e-49bc-b913-129563e28081"
      },
      "source": [
        "jp"
      ],
      "execution_count": 553,
      "outputs": [
        {
          "output_type": "execute_result",
          "data": {
            "application/vnd.google.colaboratory.intrinsic+json": {
              "type": "string"
            },
            "text/plain": [
              "'{\"1\": {\"Transaction ID:\": 12, \"Transaction time:\": \"Mon Sep  6 10:47:47 2021\", \"Product Id\": \"1001\", \"name\": \"Potato Chhips\", \"Quantity\": 5, \"Price:\": 85}, \"1033\": {\"Transaction ID:\": \"1033110\", \"Transaction time:\": \"Mon Sep  6 15:53:11 2021\", \"Product Id\": \"1033\", \"name\": \"Salt\", \"Quantity\": 1, \"Price:\": 20}, \"1031\": {\"Transaction ID:\": \"1031110\", \"Transaction time:\": \"Mon Sep  6 15:55:41 2021\", \"Product Id\": \"1031\", \"name\": \"Canned Beans\", \"Quantity\": 1, \"Price:\": 100}, \"1030\": {\"Transaction ID:\": \"1030110\", \"Transaction time:\": \"Mon Sep  6 15:56:48 2021\", \"Product Id\": \"1030\", \"name\": \"Dishwashing soap\", \"Quantity\": 2, \"Price:\": 30}, \"1029\": {\"Transaction ID:\": \"1029110\", \"Transaction time:\": \"Mon Sep  6 15:57:46 2021\", \"Product Id\": \"1029\", \"name\": \"sugar\", \"Quantity\": 3, \"Price:\": 135}, \"1027\": {\"Transaction ID:\": \"1027110\", \"Transaction time:\": \"Mon Sep  6 15:58:21 2021\", \"Product Id\": \"1027\", \"name\": \"Rice\", \"Quantity\": 1, \"Price:\": 45}, \"1025\": {\"Transaction ID:\": \"1025110\", \"Transaction time:\": \"Mon Sep  6 15:59:22 2021\", \"Product Id\": \"1025\", \"name\": \"Facemask\", \"Quantity\": 1, \"Price:\": 60}, \"1026\": {\"Transaction ID:\": \"1026110\", \"Transaction time:\": \"Mon Sep  6 16:00:11 2021\", \"Product Id\": \"1026\", \"name\": \"Whaet\", \"Quantity\": 1, \"Price:\": 30}, \"1023\": {\"Transaction ID:\": \"1023110\", \"Transaction time:\": \"Mon Sep  6 16:01:04 2021\", \"Product Id\": \"1023\", \"name\": \"ilkyBar\", \"Quantity\": 1, \"Price:\": 25}, \"1022\": {\"Transaction ID:\": \"1022110\", \"Transaction time:\": \"Mon Sep  6 16:01:42 2021\", \"Product Id\": \"1022\", \"name\": \"Crud\", \"Quantity\": 2, \"Price:\": 100}, \"1021\": {\"Transaction ID:\": \"1021110\", \"Transaction time:\": \"Mon Sep  6 16:13:57 2021\", \"Product Id\": \"1021\", \"name\": \"Panner\", \"Quantity\": 2, \"Price:\": 120}, \"1019\": {\"Transaction ID:\": \"1019110\", \"Transaction time:\": \"Mon Sep  6 16:03:11 2021\", \"Product Id\": \"1019\", \"name\": \"Bodywash\", \"Quantity\": 1, \"Price:\": 60}, \"1017\": {\"Transaction ID:\": \"1017110\", \"Transaction time:\": \"Mon Sep  6 16:03:48 2021\", \"Product Id\": \"1017\", \"name\": \"Hand-Sanitizer\", \"Quantity\": 3, \"Price:\": 105}, \"1015\": {\"Transaction ID:\": \"1015110\", \"Transaction time:\": \"Mon Sep  6 16:04:18 2021\", \"Product Id\": \"1015\", \"name\": \"Hair Serum\", \"Quantity\": 1, \"Price:\": 80}, \"1014\": {\"Transaction ID:\": \"1014110\", \"Transaction time:\": \"Mon Sep  6 16:04:44 2021\", \"Product Id\": \"1014\", \"name\": \"Nailpolish\", \"Quantity\": 2, \"Price:\": 100}, \"1013\": {\"Transaction ID:\": \"1013110\", \"Transaction time:\": \"Mon Sep  6 16:05:19 2021\", \"Product Id\": \"1013\", \"name\": \"Hiar-oil\", \"Quantity\": 2, \"Price:\": 90}, \"1011\": {\"Transaction ID:\": \"1011110\", \"Transaction time:\": \"Mon Sep  6 16:11:48 2021\", \"Product Id\": \"1011\", \"name\": \"Tomato-Ketchup\", \"Quantity\": 1, \"Price:\": 35}, \"1009\": {\"Transaction ID:\": \"1009110\", \"Transaction time:\": \"Mon Sep  6 16:06:21 2021\", \"Product Id\": \"1009\", \"name\": \"5 Star\", \"Quantity\": 1, \"Price:\": 20}, \"1007\": {\"Transaction ID:\": \"1007110\", \"Transaction time:\": \"Mon Sep  6 16:06:51 2021\", \"Product Id\": \"1007\", \"name\": \"Fruit-Jam\", \"Quantity\": 2, \"Price:\": 120}, \"1008\": {\"Transaction ID:\": \"1008110\", \"Transaction time:\": \"Mon Sep  6 16:07:42 2021\", \"Product Id\": \"1008\", \"name\": \"Noodles\", \"Quantity\": 1, \"Price:\": 20}, \"1005\": {\"Transaction ID:\": \"1005110\", \"Transaction time:\": \"Mon Sep  6 16:08:11 2021\", \"Product Id\": \"1005\", \"name\": \"Chips\", \"Quantity\": 2, \"Price:\": 40}, \"1001\": {\"Transaction ID:\": \"1001110\", \"Transaction time:\": \"Mon Sep  6 16:08:58 2021\", \"Product Id\": \"1001\", \"name\": \"Potato Chhips\", \"Quantity\": 1, \"Price:\": 17}, \"1003\": {\"Transaction ID:\": \"1003110\", \"Transaction time:\": \"Mon Sep  6 16:09:33 2021\", \"Product Id\": \"1003\", \"name\": \"Milk\", \"Quantity\": 2, \"Price:\": 120}, \"1002\": {\"Transaction ID:\": \"1002110\", \"Transaction time:\": \"Mon Sep  6 16:10:02 2021\", \"Product Id\": \"1002\", \"name\": \"Choco-Pie\", \"Quantity\": 2, \"Price:\": 50}, \"1032\": {\"Transaction ID:\": \"1032110\", \"Transaction time:\": \"Mon Sep  6 16:10:38 2021\", \"Product Id\": \"1032\", \"name\": \"Water\", \"Quantity\": 3, \"Price:\": 60}, \"1028\": {\"Transaction ID:\": \"1028110\", \"Transaction time:\": \"Mon Sep  6 16:11:10 2021\", \"Product Id\": \"1028\", \"name\": \"Bajra\", \"Quantity\": 1, \"Price:\": 35}, \"1012\": {\"Transaction ID:\": \"1012110\", \"Transaction time:\": \"Mon Sep  6 16:12:20 2021\", \"Product Id\": \"1012\", \"name\": \"Sonpapdi\", \"Quantity\": 2, \"Price:\": 300}, \"1016\": {\"Transaction ID:\": \"1016110\", \"Transaction time:\": \"Mon Sep  6 16:12:51 2021\", \"Product Id\": \"1016\", \"name\": \"Facewash\", \"Quantity\": 1, \"Price:\": 45}, \"1020\": {\"Transaction ID:\": \"1020110\", \"Transaction time:\": \"Mon Sep  6 16:13:33 2021\", \"Product Id\": \"1020\", \"name\": \"Ice-Cream\", \"Quantity\": 1, \"Price:\": 100}, \"1024\": {\"Transaction ID:\": \"1024110\", \"Transaction time:\": \"Mon Sep  6 16:14:27 2021\", \"Product Id\": \"1024\", \"name\": \"All-Out\", \"Quantity\": 1, \"Price:\": 40}}'"
            ]
          },
          "metadata": {},
          "execution_count": 553
        }
      ]
    },
    {
      "cell_type": "code",
      "metadata": {
        "id": "vEmo_NnJ2gN_"
      },
      "source": [
        ""
      ],
      "execution_count": null,
      "outputs": []
    }
  ]
}